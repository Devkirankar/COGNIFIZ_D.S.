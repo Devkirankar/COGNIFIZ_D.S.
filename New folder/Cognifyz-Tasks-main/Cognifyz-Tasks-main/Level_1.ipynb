{
  "nbformat": 4,
  "nbformat_minor": 0,
  "metadata": {
    "colab": {
      "provenance": [],
      "authorship_tag": "ABX9TyPIlvbvIG07ciUPTALaIUnG",
      "include_colab_link": true
    },
    "kernelspec": {
      "name": "python3",
      "display_name": "Python 3"
    },
    "language_info": {
      "name": "python"
    }
  },
  "cells": [
    {
      "cell_type": "markdown",
      "metadata": {
        "id": "view-in-github",
        "colab_type": "text"
      },
      "source": [
        "<a href=\"https://colab.research.google.com/github/Charishma-Kandregula/Cognifyz-Tasks/blob/main/Level_1.ipynb\" target=\"_parent\"><img src=\"https://colab.research.google.com/assets/colab-badge.svg\" alt=\"Open In Colab\"/></a>"
      ]
    },
    {
      "cell_type": "markdown",
      "source": [
        "# Level 1 - Task 1:-\n",
        "\n",
        "## Task: Data Exploration and Preprocessing"
      ],
      "metadata": {
        "id": "rUtxo1DybUjT"
      }
    },
    {
      "cell_type": "markdown",
      "source": [
        "1.Explore the dataset and identify the number\n",
        "of rows and columns."
      ],
      "metadata": {
        "id": "Anfl-kBEb98T"
      }
    },
    {
      "cell_type": "code",
      "source": [
        "import pandas as pd\n",
        "a = pd.read_csv('/content/Dataset .csv')"
      ],
      "metadata": {
        "id": "oTa2jpRRcA0t"
      },
      "execution_count": 1,
      "outputs": []
    },
    {
      "cell_type": "code",
      "source": [
        "print(a.head())"
      ],
      "metadata": {
        "colab": {
          "base_uri": "https://localhost:8080/"
        },
        "id": "Q7fdEPDcdPOZ",
        "outputId": "554702fc-da6f-496a-cdf8-59310fb4a359"
      },
      "execution_count": 2,
      "outputs": [
        {
          "output_type": "stream",
          "name": "stdout",
          "text": [
            "   Restaurant ID         Restaurant Name  Country Code              City  \\\n",
            "0        6317637        Le Petit Souffle           162       Makati City   \n",
            "1        6304287        Izakaya Kikufuji           162       Makati City   \n",
            "2        6300002  Heat - Edsa Shangri-La           162  Mandaluyong City   \n",
            "3        6318506                    Ooma           162  Mandaluyong City   \n",
            "4        6314302             Sambo Kojin           162  Mandaluyong City   \n",
            "\n",
            "                                             Address  \\\n",
            "0  Third Floor, Century City Mall, Kalayaan Avenu...   \n",
            "1  Little Tokyo, 2277 Chino Roces Avenue, Legaspi...   \n",
            "2  Edsa Shangri-La, 1 Garden Way, Ortigas, Mandal...   \n",
            "3  Third Floor, Mega Fashion Hall, SM Megamall, O...   \n",
            "4  Third Floor, Mega Atrium, SM Megamall, Ortigas...   \n",
            "\n",
            "                                     Locality  \\\n",
            "0   Century City Mall, Poblacion, Makati City   \n",
            "1  Little Tokyo, Legaspi Village, Makati City   \n",
            "2  Edsa Shangri-La, Ortigas, Mandaluyong City   \n",
            "3      SM Megamall, Ortigas, Mandaluyong City   \n",
            "4      SM Megamall, Ortigas, Mandaluyong City   \n",
            "\n",
            "                                    Locality Verbose   Longitude   Latitude  \\\n",
            "0  Century City Mall, Poblacion, Makati City, Mak...  121.027535  14.565443   \n",
            "1  Little Tokyo, Legaspi Village, Makati City, Ma...  121.014101  14.553708   \n",
            "2  Edsa Shangri-La, Ortigas, Mandaluyong City, Ma...  121.056831  14.581404   \n",
            "3  SM Megamall, Ortigas, Mandaluyong City, Mandal...  121.056475  14.585318   \n",
            "4  SM Megamall, Ortigas, Mandaluyong City, Mandal...  121.057508  14.584450   \n",
            "\n",
            "                           Cuisines  ...          Currency Has Table booking  \\\n",
            "0        French, Japanese, Desserts  ...  Botswana Pula(P)               Yes   \n",
            "1                          Japanese  ...  Botswana Pula(P)               Yes   \n",
            "2  Seafood, Asian, Filipino, Indian  ...  Botswana Pula(P)               Yes   \n",
            "3                   Japanese, Sushi  ...  Botswana Pula(P)                No   \n",
            "4                  Japanese, Korean  ...  Botswana Pula(P)               Yes   \n",
            "\n",
            "  Has Online delivery Is delivering now Switch to order menu Price range  \\\n",
            "0                  No                No                   No           3   \n",
            "1                  No                No                   No           3   \n",
            "2                  No                No                   No           4   \n",
            "3                  No                No                   No           4   \n",
            "4                  No                No                   No           4   \n",
            "\n",
            "   Aggregate rating  Rating color Rating text Votes  \n",
            "0               4.8    Dark Green   Excellent   314  \n",
            "1               4.5    Dark Green   Excellent   591  \n",
            "2               4.4         Green   Very Good   270  \n",
            "3               4.9    Dark Green   Excellent   365  \n",
            "4               4.8    Dark Green   Excellent   229  \n",
            "\n",
            "[5 rows x 21 columns]\n"
          ]
        }
      ]
    },
    {
      "cell_type": "markdown",
      "source": [
        "2.Check for missing values in each column and\n",
        "handle them accordingly."
      ],
      "metadata": {
        "id": "3YRIlRgEerY2"
      }
    },
    {
      "cell_type": "code",
      "source": [
        "print(a.info())"
      ],
      "metadata": {
        "colab": {
          "base_uri": "https://localhost:8080/"
        },
        "id": "GPpafBuBdfPG",
        "outputId": "5cb668c0-69a2-4074-d4ee-6083575a9b73"
      },
      "execution_count": 3,
      "outputs": [
        {
          "output_type": "stream",
          "name": "stdout",
          "text": [
            "<class 'pandas.core.frame.DataFrame'>\n",
            "RangeIndex: 9551 entries, 0 to 9550\n",
            "Data columns (total 21 columns):\n",
            " #   Column                Non-Null Count  Dtype  \n",
            "---  ------                --------------  -----  \n",
            " 0   Restaurant ID         9551 non-null   int64  \n",
            " 1   Restaurant Name       9551 non-null   object \n",
            " 2   Country Code          9551 non-null   int64  \n",
            " 3   City                  9551 non-null   object \n",
            " 4   Address               9551 non-null   object \n",
            " 5   Locality              9551 non-null   object \n",
            " 6   Locality Verbose      9551 non-null   object \n",
            " 7   Longitude             9551 non-null   float64\n",
            " 8   Latitude              9551 non-null   float64\n",
            " 9   Cuisines              9542 non-null   object \n",
            " 10  Average Cost for two  9551 non-null   int64  \n",
            " 11  Currency              9551 non-null   object \n",
            " 12  Has Table booking     9551 non-null   object \n",
            " 13  Has Online delivery   9551 non-null   object \n",
            " 14  Is delivering now     9551 non-null   object \n",
            " 15  Switch to order menu  9551 non-null   object \n",
            " 16  Price range           9551 non-null   int64  \n",
            " 17  Aggregate rating      9551 non-null   float64\n",
            " 18  Rating color          9551 non-null   object \n",
            " 19  Rating text           9551 non-null   object \n",
            " 20  Votes                 9551 non-null   int64  \n",
            "dtypes: float64(3), int64(5), object(13)\n",
            "memory usage: 1.5+ MB\n",
            "None\n"
          ]
        }
      ]
    },
    {
      "cell_type": "code",
      "source": [
        "missing_values = a.isnull().sum()\n",
        "print(missing_values)\n"
      ],
      "metadata": {
        "colab": {
          "base_uri": "https://localhost:8080/"
        },
        "id": "onP9oMesdw9p",
        "outputId": "54434c6e-85a3-4181-9208-fc9ad1e04aa9"
      },
      "execution_count": 6,
      "outputs": [
        {
          "output_type": "stream",
          "name": "stdout",
          "text": [
            "Restaurant ID           0\n",
            "Restaurant Name         0\n",
            "Country Code            0\n",
            "City                    0\n",
            "Address                 0\n",
            "Locality                0\n",
            "Locality Verbose        0\n",
            "Longitude               0\n",
            "Latitude                0\n",
            "Cuisines                9\n",
            "Average Cost for two    0\n",
            "Currency                0\n",
            "Has Table booking       0\n",
            "Has Online delivery     0\n",
            "Is delivering now       0\n",
            "Switch to order menu    0\n",
            "Price range             0\n",
            "Aggregate rating        0\n",
            "Rating color            0\n",
            "Rating text             0\n",
            "Votes                   0\n",
            "dtype: int64\n"
          ]
        }
      ]
    },
    {
      "cell_type": "markdown",
      "source": [
        "3.Perform data type conversion if necessary.\n",
        "Analyze the distribution of the target variable\n",
        "(\"Aggregate rating\") and identify any class\n",
        "imbalances"
      ],
      "metadata": {
        "id": "jqMqZSb9ev0c"
      }
    },
    {
      "cell_type": "code",
      "source": [
        "target_distribution = a['Aggregate rating'].value_counts()\n",
        "print(target_distribution)\n"
      ],
      "metadata": {
        "colab": {
          "base_uri": "https://localhost:8080/"
        },
        "id": "Xvuy9EOzeOwC",
        "outputId": "1038dd9a-7560-4505-dccf-53f81be807cd"
      },
      "execution_count": 7,
      "outputs": [
        {
          "output_type": "stream",
          "name": "stdout",
          "text": [
            "Aggregate rating\n",
            "0.0    2148\n",
            "3.2     522\n",
            "3.1     519\n",
            "3.4     498\n",
            "3.3     483\n",
            "3.5     480\n",
            "3.0     468\n",
            "3.6     458\n",
            "3.7     427\n",
            "3.8     400\n",
            "2.9     381\n",
            "3.9     335\n",
            "2.8     315\n",
            "4.1     274\n",
            "4.0     266\n",
            "2.7     250\n",
            "4.2     221\n",
            "2.6     191\n",
            "4.3     174\n",
            "4.4     144\n",
            "2.5     110\n",
            "4.5      95\n",
            "2.4      87\n",
            "4.6      78\n",
            "4.9      61\n",
            "2.3      47\n",
            "4.7      42\n",
            "2.2      27\n",
            "4.8      25\n",
            "2.1      15\n",
            "2.0       7\n",
            "1.9       2\n",
            "1.8       1\n",
            "Name: count, dtype: int64\n"
          ]
        }
      ]
    },
    {
      "cell_type": "markdown",
      "source": [
        "# Level 1 - Task 2:-\n",
        "\n",
        "## Task: Descriptive Analysis\n",
        "\n",
        "##### 1. Calculate basic statistical measures (mean,median, standard deviation, etc.) for numerical columns."
      ],
      "metadata": {
        "id": "VtrpCZkZe2Lf"
      }
    },
    {
      "cell_type": "code",
      "source": [
        "numerical_columns = a.select_dtypes(include=['int64', 'float64'])\n",
        "print(numerical_columns.describe())"
      ],
      "metadata": {
        "colab": {
          "base_uri": "https://localhost:8080/"
        },
        "id": "i5Ehs6mYkjZb",
        "outputId": "5fcc0bd8-5d40-4d40-96d6-7e26a997168a"
      },
      "execution_count": 8,
      "outputs": [
        {
          "output_type": "stream",
          "name": "stdout",
          "text": [
            "       Restaurant ID  Country Code    Longitude     Latitude  \\\n",
            "count   9.551000e+03   9551.000000  9551.000000  9551.000000   \n",
            "mean    9.051128e+06     18.365616    64.126574    25.854381   \n",
            "std     8.791521e+06     56.750546    41.467058    11.007935   \n",
            "min     5.300000e+01      1.000000  -157.948486   -41.330428   \n",
            "25%     3.019625e+05      1.000000    77.081343    28.478713   \n",
            "50%     6.004089e+06      1.000000    77.191964    28.570469   \n",
            "75%     1.835229e+07      1.000000    77.282006    28.642758   \n",
            "max     1.850065e+07    216.000000   174.832089    55.976980   \n",
            "\n",
            "       Average Cost for two  Price range  Aggregate rating         Votes  \n",
            "count           9551.000000  9551.000000       9551.000000   9551.000000  \n",
            "mean            1199.210763     1.804837          2.666370    156.909748  \n",
            "std            16121.183073     0.905609          1.516378    430.169145  \n",
            "min                0.000000     1.000000          0.000000      0.000000  \n",
            "25%              250.000000     1.000000          2.500000      5.000000  \n",
            "50%              400.000000     2.000000          3.200000     31.000000  \n",
            "75%              700.000000     2.000000          3.700000    131.000000  \n",
            "max           800000.000000     4.000000          4.900000  10934.000000  \n"
          ]
        }
      ]
    },
    {
      "cell_type": "code",
      "source": [
        "categorical_columns = a.select_dtypes(include=['object'])\n",
        "for column in categorical_columns:\n",
        "    print(f\"\\nDistribution of '{column}':\")\n",
        "    print(a[column].value_counts())"
      ],
      "metadata": {
        "colab": {
          "base_uri": "https://localhost:8080/"
        },
        "id": "tJJZz8IvlCQg",
        "outputId": "dcd4a824-7eec-405e-d844-35a7eee1504e"
      },
      "execution_count": 16,
      "outputs": [
        {
          "output_type": "stream",
          "name": "stdout",
          "text": [
            "\n",
            "Distribution of 'Restaurant Name':\n",
            "Restaurant Name\n",
            "Cafe Coffee Day             83\n",
            "Domino's Pizza              79\n",
            "Subway                      63\n",
            "Green Chick Chop            51\n",
            "McDonald's                  48\n",
            "                            ..\n",
            "Odeon Social                 1\n",
            "Johnny Rockets               1\n",
            "House of Commons             1\n",
            "HotMess                      1\n",
            "Walter's Coffee Roastery     1\n",
            "Name: count, Length: 7446, dtype: int64\n",
            "\n",
            "Distribution of 'City':\n",
            "City\n",
            "New Delhi           5473\n",
            "Gurgaon             1118\n",
            "Noida               1080\n",
            "Faridabad            251\n",
            "Ghaziabad             25\n",
            "                    ... \n",
            "Panchkula              1\n",
            "Mc Millan              1\n",
            "Mayfield               1\n",
            "Macedon                1\n",
            "Vineland Station       1\n",
            "Name: count, Length: 141, dtype: int64\n",
            "\n",
            "Distribution of 'Address':\n",
            "Address\n",
            "Dilli Haat, INA, New Delhi                                                               11\n",
            "Sector 41, Noida                                                                         11\n",
            "Greater Kailash (GK) 1, New Delhi                                                        10\n",
            "The Imperial, Janpath, New Delhi                                                          9\n",
            "Cyber Hub, DLF Cyber City, Gurgaon                                                        8\n",
            "                                                                                         ..\n",
            "23-24, Defence Colony Market, Defence Colony, New Delhi                                   1\n",
            "28, Main Market, Defence Colony, New Delhi                                                1\n",
            "Daryaganj, New Delhi                                                                      1\n",
            "Ground Floor, E-23, Netaji Subhash Marg, Opposite Golcha Cinema, Daryaganj, New Delhi     1\n",
            "Cafea��a Mahallesi, Bademalt۱ Sokak, No 21/B, Kad۱k�_y, ��stanbul                         1\n",
            "Name: count, Length: 8918, dtype: int64\n",
            "\n",
            "Distribution of 'Locality':\n",
            "Locality\n",
            "Connaught Place                                122\n",
            "Rajouri Garden                                  99\n",
            "Shahdara                                        87\n",
            "Defence Colony                                  86\n",
            "Malviya Nagar                                   85\n",
            "                                              ... \n",
            "Lemon Tree Premier, Sector 29                    1\n",
            "Omaxe Celebration Mall, Sohna Road, Gurgaon      1\n",
            "Park Inn, Sector 15, Gurgaon                     1\n",
            "Plaza Mall, MG Road                              1\n",
            "Moda                                             1\n",
            "Name: count, Length: 1208, dtype: int64\n",
            "\n",
            "Distribution of 'Locality Verbose':\n",
            "Locality Verbose\n",
            "Connaught Place, New Delhi                    122\n",
            "Rajouri Garden, New Delhi                      99\n",
            "Shahdara, New Delhi                            87\n",
            "Defence Colony, New Delhi                      86\n",
            "Pitampura, New Delhi                           85\n",
            "                                             ... \n",
            "Ramada Gurgaon Central, Sector 44, Gurgaon      1\n",
            "Sector 5, Gurgaon                               1\n",
            "Sector 53, Gurgaon                              1\n",
            "The Claremont, MG Road, Gurgaon                 1\n",
            "Moda, ��stanbul                                 1\n",
            "Name: count, Length: 1265, dtype: int64\n",
            "\n",
            "Distribution of 'Cuisines':\n",
            "Cuisines\n",
            "North Indian                                             936\n",
            "North Indian, Chinese                                    511\n",
            "Chinese                                                  354\n",
            "Fast Food                                                354\n",
            "North Indian, Mughlai                                    334\n",
            "                                                        ... \n",
            "Bengali, Fast Food                                         1\n",
            "North Indian, Rajasthani, Asian                            1\n",
            "Chinese, Thai, Malaysian, Indonesian                       1\n",
            "Bakery, Desserts, North Indian, Bengali, South Indian      1\n",
            "Italian, World Cuisine                                     1\n",
            "Name: count, Length: 1825, dtype: int64\n",
            "\n",
            "Distribution of 'Currency':\n",
            "Currency\n",
            "Indian Rupees(Rs.)        8652\n",
            "Dollar($)                  482\n",
            "Pounds(��)                  80\n",
            "Brazilian Real(R$)          60\n",
            "Emirati Diram(AED)          60\n",
            "Rand(R)                     60\n",
            "NewZealand($)               40\n",
            "Turkish Lira(TL)            34\n",
            "Botswana Pula(P)            22\n",
            "Indonesian Rupiah(IDR)      21\n",
            "Qatari Rial(QR)             20\n",
            "Sri Lankan Rupee(LKR)       20\n",
            "Name: count, dtype: int64\n",
            "\n",
            "Distribution of 'Has Table booking':\n",
            "Has Table booking\n",
            "No     8393\n",
            "Yes    1158\n",
            "Name: count, dtype: int64\n",
            "\n",
            "Distribution of 'Has Online delivery':\n",
            "Has Online delivery\n",
            "No     7100\n",
            "Yes    2451\n",
            "Name: count, dtype: int64\n",
            "\n",
            "Distribution of 'Is delivering now':\n",
            "Is delivering now\n",
            "No     9517\n",
            "Yes      34\n",
            "Name: count, dtype: int64\n",
            "\n",
            "Distribution of 'Switch to order menu':\n",
            "Switch to order menu\n",
            "No    9551\n",
            "Name: count, dtype: int64\n",
            "\n",
            "Distribution of 'Rating color':\n",
            "Rating color\n",
            "Orange        3737\n",
            "White         2148\n",
            "Yellow        2100\n",
            "Green         1079\n",
            "Dark Green     301\n",
            "Red            186\n",
            "Name: count, dtype: int64\n",
            "\n",
            "Distribution of 'Rating text':\n",
            "Rating text\n",
            "Average      3737\n",
            "Not rated    2148\n",
            "Good         2100\n",
            "Very Good    1079\n",
            "Excellent     301\n",
            "Poor          186\n",
            "Name: count, dtype: int64\n"
          ]
        }
      ]
    },
    {
      "cell_type": "markdown",
      "source": [
        "2.Explore the distribution of categorical\n",
        "variables like \"Country Code,\" \"City,\" and\"Cuisines\"\n",
        "Identify the top cuisines and cities with the\n",
        "highest number of restaurants.\n"
      ],
      "metadata": {
        "id": "EjhQU1sImeYj"
      }
    },
    {
      "cell_type": "code",
      "source": [
        "top_cuisines = a['Cuisines'].value_counts().head(10)\n",
        "top_cities = a['City'].value_counts().head(10)\n",
        "print(\"\\nTop 10 Cuisines:\")\n",
        "print(top_cuisines)\n",
        "print(\"\\nTop 10 Cities:\")\n",
        "print(top_cities)"
      ],
      "metadata": {
        "colab": {
          "base_uri": "https://localhost:8080/"
        },
        "id": "e0ogndTCmVrt",
        "outputId": "41e3e66a-c28a-4c38-d6b9-7c0a8865ec1f"
      },
      "execution_count": 17,
      "outputs": [
        {
          "output_type": "stream",
          "name": "stdout",
          "text": [
            "\n",
            "Top 10 Cuisines:\n",
            "Cuisines\n",
            "North Indian                      936\n",
            "North Indian, Chinese             511\n",
            "Chinese                           354\n",
            "Fast Food                         354\n",
            "North Indian, Mughlai             334\n",
            "Cafe                              299\n",
            "Bakery                            218\n",
            "North Indian, Mughlai, Chinese    197\n",
            "Bakery, Desserts                  170\n",
            "Street Food                       149\n",
            "Name: count, dtype: int64\n",
            "\n",
            "Top 10 Cities:\n",
            "City\n",
            "New Delhi       5473\n",
            "Gurgaon         1118\n",
            "Noida           1080\n",
            "Faridabad        251\n",
            "Ghaziabad         25\n",
            "Bhubaneshwar      21\n",
            "Amritsar          21\n",
            "Ahmedabad         21\n",
            "Lucknow           21\n",
            "Guwahati          21\n",
            "Name: count, dtype: int64\n"
          ]
        }
      ]
    },
    {
      "cell_type": "markdown",
      "source": [
        "# Level 1 - Task 3:-\n",
        "\n",
        "## Task: Geospatial Analysis\n",
        "\n",
        "##### 1. Visualize the locations of restaurants on a map using latitude and longitude information."
      ],
      "metadata": {
        "id": "4a9y3P6GnUDU"
      }
    },
    {
      "cell_type": "code",
      "source": [
        "import folium\n",
        "latitude = a['Latitude']\n",
        "longitude = a['Longitude']\n",
        "map = folium.Map(location=[latitude.mean(), longitude.mean()], zoom_start=10)\n",
        "for lat, lng in zip(latitude, longitude):\n",
        "    marker = folium.Marker(location=[lat, lng])\n",
        "    map.add_child(marker)\n",
        "map\n",
        "city_map = folium.Map(location=[latitude.mean(), longitude.mean()], zoom_start=10)\n",
        "for city, group in a.groupby('City'):\n",
        "   for lat, lng in zip(group['Latitude'], group['Longitude']):\n",
        "       marker = folium.Marker(location=[lat, lng], icon=folium.Icon(color='red'))\n",
        "   city_map.add_child(marker)\n",
        "city_map\n",
        "correlation = a['Aggregate rating'].corr(a['Latitude'])\n",
        "print(f\"Correlation between latitude and rating: {correlation}\")"
      ],
      "metadata": {
        "colab": {
          "base_uri": "https://localhost:8080/"
        },
        "id": "rIhUuN4rnV3_",
        "outputId": "2a2ea50e-1858-4d45-b8de-ff1ada947ff4"
      },
      "execution_count": 20,
      "outputs": [
        {
          "output_type": "stream",
          "name": "stdout",
          "text": [
            "Correlation between latitude and rating: 0.0005155806902359908\n"
          ]
        }
      ]
    },
    {
      "cell_type": "code",
      "source": [
        "correlation = a['Aggregate rating'].corr(a['Longitude'])\n",
        "print(f\"Correlation between longitude and rating: {correlation}\")"
      ],
      "metadata": {
        "colab": {
          "base_uri": "https://localhost:8080/"
        },
        "id": "KShRZTKAoRDn",
        "outputId": "9fc125d9-e60d-46c7-dcc7-77253537787f"
      },
      "execution_count": 21,
      "outputs": [
        {
          "output_type": "stream",
          "name": "stdout",
          "text": [
            "Correlation between longitude and rating: -0.11681757734540432\n"
          ]
        }
      ]
    }
  ]
}